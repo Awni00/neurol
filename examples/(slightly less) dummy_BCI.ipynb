{
 "nbformat": 4,
 "nbformat_minor": 2,
 "metadata": {
  "language_info": {
   "name": "python",
   "codemirror_mode": {
    "name": "ipython",
    "version": 3
   },
   "version": "3.8.5-final"
  },
  "orig_nbformat": 2,
  "file_extension": ".py",
  "mimetype": "text/x-python",
  "name": "python",
  "npconvert_exporter": "python",
  "pygments_lexer": "ipython3",
  "version": 3,
  "kernelspec": {
   "name": "python38264bittestneurolcondac67eea37cb1c413eb235bd2784aecf63",
   "display_name": "Python 3.8.2 64-bit ('test_neurol': conda)"
  }
 },
 "cells": [
  {
   "cell_type": "markdown",
   "metadata": {},
   "source": [
    "# A (slightly less) Dummy BCI"
   ]
  },
  {
   "cell_type": "markdown",
   "metadata": {},
   "source": [
    "In this notebook, we learn about some of the other features of the `generic_BCI` class by building another dummy brain-computer interface.\n",
    "\n",
    "We will show the use of a calibrator and a transformer. "
   ]
  },
  {
   "cell_type": "code",
   "execution_count": 1,
   "metadata": {},
   "outputs": [],
   "source": [
    "# importing the BCI module from neurol\n",
    "from neurol import BCI"
   ]
  },
  {
   "cell_type": "markdown",
   "metadata": {},
   "source": [
    "Calibrators are given to a `generic_BCI` instance on initialization. They are run with its `calibrate` function. After running, the calibrator returns a `calibration_info` object which stored as an attribute of the `generic_BCI` instance (initialilze to None if no calibrator). This `calibration_info` is then passed on to the `transformer` and `classifier` as the second argument in order to adjust their behaviour."
   ]
  },
  {
   "cell_type": "markdown",
   "metadata": {},
   "source": [
    "## Still-pretty-dummy BCI"
   ]
  },
  {
   "cell_type": "markdown",
   "metadata": {},
   "source": [
    "First, let's create a dummy calibrator to show how this works. The `calibrator` will ask for user input and return it. The `transformer` will ignore the data stream and just return `calibration_info` appending the string \"_tfrm\". The `classifier` again will just return its input appending the string \"_clf\". The `action` will be to simply print the classification."
   ]
  },
  {
   "cell_type": "code",
   "execution_count": 2,
   "metadata": {},
   "outputs": [],
   "source": [
    "def dummy_clb(inlet):\n",
    "    '''dummy calibrator'''\n",
    "    print(\"What's up?\")\n",
    "    return input()\n",
    "\n",
    "def dummy_tfrm(buffer, clb_info):\n",
    "    '''dummy transformer'''\n",
    "    return clb_info + '_tfrm'\n",
    "\n",
    "def dummy_clf(clf_input, clb_info):\n",
    "    '''dummy classifier'''\n",
    "    return clf_input + '_clf' # note that dummy_clf happens to not use the calibration info"
   ]
  },
  {
   "cell_type": "markdown",
   "metadata": {},
   "source": [
    "Now, we define the BCI using the above functions"
   ]
  },
  {
   "cell_type": "code",
   "execution_count": 3,
   "metadata": {},
   "outputs": [],
   "source": [
    "clb_demo_bci = BCI.generic_BCI(dummy_clf, dummy_tfrm, action=print, calibrator=dummy_clb)"
   ]
  },
  {
   "cell_type": "markdown",
   "metadata": {},
   "source": [
    "Before we calibrate and run our BCI, we need to get our stream of data. This looks slightly different for different devices, but looks something like the following:"
   ]
  },
  {
   "cell_type": "code",
   "execution_count": 4,
   "metadata": {},
   "outputs": [],
   "source": [
    "from neurol.connect_device import get_lsl_EEG_inlets\n",
    "from neurol import streams\n",
    "\n",
    "inlet = get_lsl_EEG_inlets()[0] # gets first inlet, assuming only one EEG streaming device is connected\n",
    "\n",
    "# we ask the stream object to manage a buffer of 1024 samples from the inlet\n",
    "stream = streams.lsl_stream(inlet, buffer_length=1024) "
   ]
  },
  {
   "cell_type": "markdown",
   "metadata": {},
   "source": [
    "Now that we have a stream of data, we can calibrate our BCI. Obviously this particular BCI isn't using the stream of data (though it is still managing it as if it will)"
   ]
  },
  {
   "cell_type": "code",
   "execution_count": 5,
   "metadata": {
    "tags": []
   },
   "outputs": [
    {
     "output_type": "stream",
     "name": "stdout",
     "text": [
      "What's up?\n"
     ]
    }
   ],
   "source": [
    "clb_demo_bci.calibrate(inlet)"
   ]
  },
  {
   "cell_type": "markdown",
   "metadata": {},
   "source": [
    "That's it. Now let's check its `calibration_info` attribute to see if it worked."
   ]
  },
  {
   "cell_type": "code",
   "execution_count": 6,
   "metadata": {},
   "outputs": [
    {
     "output_type": "execute_result",
     "data": {
      "text/plain": [
       "'notmuch'"
      ]
     },
     "metadata": {},
     "execution_count": 6
    }
   ],
   "source": [
    "clb_demo_bci.calibration_info"
   ]
  },
  {
   "cell_type": "markdown",
   "metadata": {},
   "source": [
    "Alright there we go! If you happen to know the `calibration_info` you want to give your BCI before hand without needing to run a calibrator, then you can set the property directly without needing to initialize your BCI with a calibrator.\n",
    "\n",
    "Now let's run the BCI and see it using the calibration"
   ]
  },
  {
   "cell_type": "code",
   "execution_count": 7,
   "metadata": {
    "tags": []
   },
   "outputs": [
    {
     "output_type": "stream",
     "name": "stdout",
     "text": [
      "notmuch_tfrm_clf\n",
      "notmuch_tfrm_clf\n",
      "notmuch_tfrm_clf\n",
      "notmuch_tfrm_clf\n",
      "notmuch_tfrm_clf\n",
      "notmuch_tfrm_clf\n",
      "notmuch_tfrm_clf\n",
      "notmuch_tfrm_clf\n",
      "notmuch_tfrm_clf\n",
      "notmuch_tfrm_clf\n",
      "notmuch_tfrm_clf\n",
      "notmuch_tfrm_clf\n",
      "notmuch_tfrm_clf\n",
      "notmuch_tfrm_clf\n",
      "notmuch_tfrm_clf\n",
      "notmuch_tfrm_clf\n",
      "notmuch_tfrm_clf\n",
      "notmuch_tfrm_clf\n",
      "notmuch_tfrm_clf\n",
      "notmuch_tfrm_clf\n",
      "notmuch_tfrm_clf\n",
      "notmuch_tfrm_clf\n",
      "notmuch_tfrm_clf\n",
      "notmuch_tfrm_clf\n",
      "notmuch_tfrm_clf\n",
      "notmuch_tfrm_clf\n",
      "notmuch_tfrm_clf\n",
      "notmuch_tfrm_clf\n",
      "notmuch_tfrm_clf\n",
      "notmuch_tfrm_clf\n",
      "notmuch_tfrm_clf\n",
      "notmuch_tfrm_clf\n",
      "notmuch_tfrm_clf\n",
      "notmuch_tfrm_clf\n",
      "notmuch_tfrm_clf\n",
      "notmuch_tfrm_clf\n",
      "notmuch_tfrm_clf\n",
      "notmuch_tfrm_clf\n",
      "notmuch_tfrm_clf\n",
      "notmuch_tfrm_clf\n",
      "notmuch_tfrm_clf\n",
      "notmuch_tfrm_clf\n",
      "notmuch_tfrm_clf\n",
      "notmuch_tfrm_clf\n",
      "notmuch_tfrm_clf\n",
      "notmuch_tfrm_clf\n",
      "notmuch_tfrm_clf\n",
      "notmuch_tfrm_clf\n",
      "notmuch_tfrm_clf\n",
      "notmuch_tfrm_clf\n",
      "notmuch_tfrm_clf\n",
      "notmuch_tfrm_clf\n",
      "notmuch_tfrm_clf\n",
      "notmuch_tfrm_clf\n",
      "notmuch_tfrm_clf\n",
      "notmuch_tfrm_clf\n",
      "notmuch_tfrm_clf\n",
      "notmuch_tfrm_clf\n",
      "notmuch_tfrm_clf\n",
      "notmuch_tfrm_clf\n",
      "notmuch_tfrm_clf\n",
      "notmuch_tfrm_clf\n",
      "notmuch_tfrm_clf\n",
      "notmuch_tfrm_clf\n",
      "notmuch_tfrm_clf\n",
      "notmuch_tfrm_clf\n",
      "notmuch_tfrm_clf\n",
      "notmuch_tfrm_clf\n",
      "notmuch_tfrm_clf\n",
      "notmuch_tfrm_clf\n",
      "notmuch_tfrm_clf\n",
      "notmuch_tfrm_clf\n",
      "notmuch_tfrm_clf\n",
      "notmuch_tfrm_clf\n",
      "notmuch_tfrm_clf\n",
      "notmuch_tfrm_clf\n",
      "notmuch_tfrm_clf\n",
      "notmuch_tfrm_clf\n",
      "notmuch_tfrm_clf\n",
      "notmuch_tfrm_clf\n",
      "notmuch_tfrm_clf\n",
      "notmuch_tfrm_clf\n",
      "notmuch_tfrm_clf\n",
      "notmuch_tfrm_clf\n",
      "notmuch_tfrm_clf\n",
      "notmuch_tfrm_clf\n",
      "notmuch_tfrm_clf\n",
      "notmuch_tfrm_clf\n",
      "notmuch_tfrm_clf\n",
      "notmuch_tfrm_clf\n",
      "\n",
      "\n",
      "QUIT BCI\n"
     ]
    }
   ],
   "source": [
    "try:\n",
    "    clb_demo_bci.run(stream)\n",
    "except KeyboardInterrupt:\n",
    "    stream.close()\n",
    "    \n",
    "    print('\\n')\n",
    "    print('QUIT BCI')\n",
    "    "
   ]
  },
  {
   "cell_type": "markdown",
   "metadata": {},
   "source": [
    "So, it does what we expect. But this isn't very useful behavior. Let's show a slightly less contrived usecase."
   ]
  },
  {
   "cell_type": "markdown",
   "metadata": {},
   "source": [
    "## Not-as-dummy BCI"
   ]
  },
  {
   "cell_type": "markdown",
   "metadata": {},
   "source": [
    "We will be creating a BCI which classifies based on frequency band power. To do this, we'll be making use of the BCI_tools module"
   ]
  },
  {
   "cell_type": "code",
   "execution_count": 8,
   "metadata": {},
   "outputs": [],
   "source": [
    "from neurol import BCI_tools"
   ]
  },
  {
   "cell_type": "markdown",
   "metadata": {},
   "source": [
    "We went to make our classification based on the power of, say, alpha waves. If it's above a certain threshold, we take it to be a positive classification and perhaps treat it as 'relaxation'. This threhsold classification is, as you might expect, performed by the `classifier`. The `tranformer` computes the power in the alpha frequency band. Finally, the `classifer`'s threshold is computed by the calibrator as a certain percentile of the band power distribution"
   ]
  },
  {
   "cell_type": "markdown",
   "metadata": {},
   "source": [
    "First, we define the calibrator. Conveniently, `BCI_tools` has a `band_power_calibrator` function we can use. These utility functions in `BCI_tools` tend to have several parameters for you to specify exactly what you want them to do. The idea is that you can use lambda expressions to define your BCI's functionality."
   ]
  },
  {
   "cell_type": "code",
   "execution_count": 9,
   "metadata": {
    "tags": []
   },
   "outputs": [
    {
     "output_type": "stream",
     "name": "stdout",
     "text": [
      "Help on function band_power_calibrator in module neurol.BCI_tools:\n\nband_power_calibrator(stream, channels, device, bands, percentile=50, recording_length=10, epoch_len=1, inter_window_interval=0.2)\n    Calibrator for `generic_BCI.BCI` which computes a given `percentile` for\n    the power of each frequency band across epochs channel-wise. Useful for\n    calibrating a concentration-based BCI.\n    \n    Arguments:\n        stream(neurol.streams object): neurol stream for brain data.\n        channels: array of strings with the names of channels to use.\n        device(str): device name for use by `classification_tools`\n        bands: the frequency bands to get power features for.\n            'all': all of ['theta', 'alpha_low', 'alpha_high', 'beta', 'gamma']\n            otherwise an array of strings of the desired bands.\n        percentile: the percentile of power distribution across epochs to\n            return for each band.\n        recording_length(float): length of recording to use for calibration\n            in seconds.\n        epoch_len(float): the length of each epoch in seconds.\n        inter_window_interval(float): interval between each window/epoch\n            in seconds (measured start to start)\n    \n    Returns:\n        clb_info: array of shape [n_bands, n_channels] of the `percentile`\n        of the power of each band\n\n"
     ]
    }
   ],
   "source": [
    "help(BCI_tools.band_power_calibrator)"
   ]
  },
  {
   "cell_type": "markdown",
   "metadata": {},
   "source": [
    "We see the parameters that `band_power_calibrator` accepts. In the end, the `calibrator` we pass into our `generic_BCI` instance should accept an `inlet` as its only parameter, so we should specify everything else. After looking over the parameters, we might choose to do the following."
   ]
  },
  {
   "cell_type": "code",
   "execution_count": 10,
   "metadata": {},
   "outputs": [],
   "source": [
    "my_clb = lambda stream : BCI_tools.band_power_calibrator(stream, ['AF7', 'AF8'], 'muse', bands=['alpha_low', 'alpha_high'], \n",
    "                                        percentile=65, recording_length=10, epoch_len=1, inter_window_interval=0.25)\n",
    "# we defined a calibrator which returns the 65th percentile of alpha wave \n",
    "#power over the 'AF7' and 'AF8' channels of a muse headset after recording for 10 seconds \n",
    "# and using epochs of 1 second seperated by 0.25 seconds."
   ]
  },
  {
   "cell_type": "markdown",
   "metadata": {},
   "source": [
    "Next we define the transformer. Again, `BCI_tools` has a `band_power_transformer` utility function we can use."
   ]
  },
  {
   "cell_type": "code",
   "execution_count": 11,
   "metadata": {
    "tags": []
   },
   "outputs": [
    {
     "output_type": "stream",
     "name": "stdout",
     "text": [
      "Help on function band_power_transformer in module neurol.BCI_tools:\n\nband_power_transformer(buffer, clb_info, channels, device, bands, epoch_len=1)\n    Transformer for `generic_BCI.BCI` which chooses channels, epochs, and\n    gets power features on some choice of bands.\n    \n    Arguments:\n        buffer: most recent stream data. shape: [n_samples, n_channels]\n        clb_info: not used. included for compatibility with generic_BCI.BCI\n        channels: list of strings of the channels to use.\n        device:(str): device name for use by `classification_tools`.\n        bands: the frequency bands to get power features for.\n            'all': all of ['theta', 'alpha_low', 'alpha_high', 'beta', 'gamma']\n            otherwise a list of strings of the desired bands.\n        epoch_len(float): the duration of data to classify on in seconds.\n    \n    Returns:\n        transformed_signal: array of shape [n_bands, n_channels] of the\n        channel-wise power of each band over the epoch.\n\n"
     ]
    }
   ],
   "source": [
    "help(BCI_tools.band_power_transformer)"
   ]
  },
  {
   "cell_type": "markdown",
   "metadata": {},
   "source": [
    "Alright then. After looking at the parameters, we might choose to define the following transformer:"
   ]
  },
  {
   "cell_type": "code",
   "execution_count": 12,
   "metadata": {},
   "outputs": [],
   "source": [
    "my_tfrm = lambda buffer, clb_info: BCI_tools.band_power_transformer(buffer, clb_info, ['AF7', 'AF8'], 'muse',\n",
    "                                                    bands=['alpha_low', 'alpha_high'], epoch_len=1)\n",
    "# define a transformer that corresponds to the choices we made with the calibrator"
   ]
  },
  {
   "cell_type": "markdown",
   "metadata": {},
   "source": [
    "Finally, we need to define the classifier. Since we're looking for a threshold classifier, we can make use of the `classification_tools` module under the `models` package. It has a `threshold_clf` function that would be useful here."
   ]
  },
  {
   "cell_type": "code",
   "execution_count": 13,
   "metadata": {},
   "outputs": [],
   "source": [
    "from neurol.models import classification_tools"
   ]
  },
  {
   "cell_type": "code",
   "execution_count": 14,
   "metadata": {
    "tags": []
   },
   "outputs": [
    {
     "output_type": "stream",
     "name": "stdout",
     "text": [
      "Help on function threshold_clf in module neurol.models.classification_tools:\n\nthreshold_clf(features, threshold, clf_consolidator='any')\n    Classifies given features based on a given threshold.\n    \n    Arguments:\n        features: an array of numerical features to classify\n        threshold: threshold for classification. A single number, or an\n          array corresponding to `features` for element-wise comparison.\n        clf_consolidator: method of consolidating element-wise comparisons\n          with threshold into a single classification.\n            'any': positive class if any features passes the threshold\n            'all': positive class only if all features pass threshold\n            'sum': a count of the number of features which pass the threshold\n            function: a custom function which takes in an array of booleans\n              and returns a consolidated classification\n    \n    Returns:\n        classification for the given features. Return type `clf_consolidator`.\n\n"
     ]
    }
   ],
   "source": [
    "help(classification_tools.threshold_clf)"
   ]
  },
  {
   "cell_type": "markdown",
   "metadata": {},
   "source": [
    "Okay, seems simple enough. The 'features' would be the output of the transformer, and the 'threshold' was computed by the calibrator."
   ]
  },
  {
   "cell_type": "code",
   "execution_count": 15,
   "metadata": {},
   "outputs": [],
   "source": [
    "# Again, we define a classifier that matches the choices we made\n",
    "# we use a function definition instead of a lambda expression since we want to do slightly more with \n",
    "def my_clf(clf_input, clb_info):\n",
    "    \n",
    "    # use threshold_clf to get a binary classification\n",
    "    binary_label = classification_tools.threshold_clf(clf_input, clb_info, clf_consolidator='all')\n",
    "    \n",
    "    # decode the binary_label into something more inteligible for printing\n",
    "    label = classification_tools.decode_prediction(binary_label, {True: 'Relaxed', False: 'Concentrated'})\n",
    "    \n",
    "    return label\n"
   ]
  },
  {
   "cell_type": "markdown",
   "metadata": {},
   "source": [
    "Alright! Now we can define our BCI:"
   ]
  },
  {
   "cell_type": "code",
   "execution_count": 16,
   "metadata": {},
   "outputs": [],
   "source": [
    "my_bci = BCI.generic_BCI(my_clf, transformer=my_tfrm, action=print, calibrator=my_clb)"
   ]
  },
  {
   "cell_type": "markdown",
   "metadata": {},
   "source": [
    "Let's start by running the calibrator and checking that it worked. We'll be using the same inlet we used before."
   ]
  },
  {
   "cell_type": "code",
   "execution_count": 17,
   "metadata": {},
   "outputs": [],
   "source": [
    "inlet = get_lsl_EEG_inlets()[0] # gets first inlet, assuming only one EEG streaming device is connected\n",
    "\n",
    "# we ask the stream object to manage a buffer of 1024 samples from the inlet\n",
    "stream = streams.lsl_stream(inlet, buffer_length=1024) "
   ]
  },
  {
   "cell_type": "code",
   "execution_count": 18,
   "metadata": {
    "tags": []
   },
   "outputs": [
    {
     "output_type": "stream",
     "name": "stdout",
     "text": [
      "Recording for 10 seconds...\n",
      "\n",
      "Computed the following power percentiles: \n",
      "[[0.00294231 0.00294481]\n",
      " [0.06643714 0.05865771]]\n"
     ]
    }
   ],
   "source": [
    "my_bci.calibrate(stream)"
   ]
  },
  {
   "cell_type": "code",
   "execution_count": 19,
   "metadata": {},
   "outputs": [
    {
     "output_type": "execute_result",
     "data": {
      "text/plain": [
       "array([[0.00294231, 0.00294481],\n",
       "       [0.06643714, 0.05865771]])"
      ]
     },
     "metadata": {},
     "execution_count": 19
    }
   ],
   "source": [
    "my_bci.calibration_info"
   ]
  },
  {
   "cell_type": "markdown",
   "metadata": {},
   "source": [
    "Alright, cool! The calibrator computed the given percentile of the alpha band power for each of the 'AF7' and 'AF8' channels and stored it in `calibration_info`. Let's now run the BCI! "
   ]
  },
  {
   "cell_type": "code",
   "execution_count": 20,
   "metadata": {
    "tags": []
   },
   "outputs": [
    {
     "output_type": "stream",
     "name": "stdout",
     "text": [
      "Concentrated\n",
      "Concentrated\n",
      "Concentrated\n",
      "Concentrated\n",
      "Concentrated\n",
      "Relaxed\n",
      "Concentrated\n",
      "Concentrated\n",
      "Concentrated\n",
      "Concentrated\n",
      "Concentrated\n",
      "Concentrated\n",
      "Concentrated\n",
      "Concentrated\n",
      "Concentrated\n",
      "Concentrated\n",
      "Concentrated\n",
      "Concentrated\n",
      "Concentrated\n",
      "Concentrated\n",
      "Concentrated\n",
      "Relaxed\n",
      "Concentrated\n",
      "Concentrated\n",
      "Concentrated\n",
      "Concentrated\n",
      "Concentrated\n",
      "Concentrated\n",
      "Concentrated\n",
      "Concentrated\n",
      "Concentrated\n",
      "Concentrated\n",
      "Concentrated\n",
      "Concentrated\n",
      "Concentrated\n",
      "Concentrated\n",
      "Concentrated\n",
      "Concentrated\n",
      "Concentrated\n",
      "Concentrated\n",
      "Concentrated\n",
      "Concentrated\n",
      "Concentrated\n",
      "Concentrated\n",
      "Concentrated\n",
      "Concentrated\n",
      "Concentrated\n",
      "Concentrated\n",
      "Concentrated\n",
      "Concentrated\n",
      "Relaxed\n",
      "Relaxed\n",
      "Relaxed\n",
      "Relaxed\n",
      "Concentrated\n",
      "Concentrated\n",
      "Concentrated\n",
      "Concentrated\n",
      "Concentrated\n",
      "Concentrated\n",
      "Concentrated\n",
      "Concentrated\n",
      "Concentrated\n",
      "Concentrated\n",
      "Concentrated\n",
      "Concentrated\n",
      "Concentrated\n",
      "Concentrated\n",
      "Concentrated\n",
      "Relaxed\n",
      "Relaxed\n",
      "Relaxed\n",
      "Concentrated\n",
      "Concentrated\n",
      "Concentrated\n",
      "Concentrated\n",
      "Concentrated\n",
      "Concentrated\n",
      "Concentrated\n",
      "Concentrated\n",
      "Concentrated\n",
      "Concentrated\n",
      "Concentrated\n",
      "Concentrated\n",
      "Concentrated\n",
      "Concentrated\n",
      "Concentrated\n",
      "Concentrated\n",
      "Concentrated\n",
      "Concentrated\n",
      "Concentrated\n",
      "Concentrated\n",
      "Concentrated\n",
      "Concentrated\n",
      "Concentrated\n",
      "Concentrated\n",
      "Concentrated\n",
      "Concentrated\n",
      "Concentrated\n",
      "Concentrated\n",
      "Concentrated\n",
      "\n",
      "\n",
      "QUIT BCI\n"
     ]
    }
   ],
   "source": [
    "try:\n",
    "    my_bci.run(stream)\n",
    "except KeyboardInterrupt:\n",
    "    stream.close()\n",
    "    \n",
    "    print('\\n')\n",
    "    print('QUIT BCI')"
   ]
  },
  {
   "cell_type": "markdown",
   "metadata": {},
   "source": [
    "There we are! Hopefully you now have a better understanding of how to build your own (more useful) BCIs!"
   ]
  }
 ]
}
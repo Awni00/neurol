{
 "nbformat": 4,
 "nbformat_minor": 2,
 "metadata": {
  "language_info": {
   "name": "python",
   "codemirror_mode": {
    "name": "ipython",
    "version": 3
   }
  },
  "orig_nbformat": 2,
  "file_extension": ".py",
  "mimetype": "text/x-python",
  "name": "python",
  "npconvert_exporter": "python",
  "pygments_lexer": "ipython3",
  "version": 3
 },
 "cells": [
  {
   "cell_type": "markdown",
   "metadata": {},
   "source": [
    "# Getting models and predictors pre-packaged with neurol"
   ]
  },
  {
   "cell_type": "markdown",
   "metadata": {},
   "source": [
    "## import model_tools"
   ]
  },
  {
   "cell_type": "code",
   "execution_count": 1,
   "metadata": {},
   "outputs": [
    {
     "name": "stderr",
     "output_type": "stream",
     "text": "Using TensorFlow backend.\n"
    }
   ],
   "source": [
    "from neurol.models import model_tools"
   ]
  },
  {
   "cell_type": "markdown",
   "metadata": {},
   "source": [
    "## import a model by its name"
   ]
  },
  {
   "cell_type": "markdown",
   "metadata": {},
   "source": [
    "`neurol` comes prepackaged with a number of machine learning models for performing certain BCI tasks. They come trained on some labelled dataset with a particular format of data. Information on these models can be found in the documentation, including the format of data they expect and an evaluation of their performance.\n",
    "\n",
    "For example, one model that is currently available is `'blink_balanced'`. It is a trained convolutional neurol network which predicts whether a blink occured in an epoch of 125 samples from the 'AF7' and 'AF8' EEG channels. \n",
    "\n",
    "To import a model from `neurol`, simply call `get_model` with the model's name. "
   ]
  },
  {
   "cell_type": "code",
   "execution_count": 2,
   "metadata": {},
   "outputs": [],
   "source": [
    "model = model_tools.get_model('blink_balanced')"
   ]
  },
  {
   "cell_type": "markdown",
   "metadata": {},
   "source": [
    "Let's get some information about the model:"
   ]
  },
  {
   "cell_type": "code",
   "execution_count": 3,
   "metadata": {},
   "outputs": [
    {
     "name": "stdout",
     "output_type": "stream",
     "text": "Model: \"sequential_2\"\n_________________________________________________________________\nLayer (type)                 Output Shape              Param #   \n=================================================================\nconv1d_5 (Conv1D)            (None, 116, 100)          2100      \n_________________________________________________________________\nconv1d_6 (Conv1D)            (None, 107, 100)          100100    \n_________________________________________________________________\nmax_pooling1d_2 (MaxPooling1 (None, 35, 100)           0         \n_________________________________________________________________\nconv1d_7 (Conv1D)            (None, 26, 160)           160160    \n_________________________________________________________________\nconv1d_8 (Conv1D)            (None, 17, 160)           256160    \n_________________________________________________________________\nglobal_average_pooling1d_2 ( (None, 160)               0         \n_________________________________________________________________\ndropout_2 (Dropout)          (None, 160)               0         \n_________________________________________________________________\ndense_2 (Dense)              (None, 2)                 322       \n=================================================================\nTotal params: 518,842\nTrainable params: 518,842\nNon-trainable params: 0\n_________________________________________________________________\n"
    }
   ],
   "source": [
    "model.summary()"
   ]
  },
  {
   "cell_type": "markdown",
   "metadata": {},
   "source": [
    "You can call `help` on the model to get more information about other attributes it has.\n",
    "\n",
    "All models have a `predict` function which can be used perform classification/regression on an input. The output of this function is useful in creating a BCI which reacts to brain data.\n",
    "\n",
    "It is also possible to directly import the predictor if that is all you care about."
   ]
  },
  {
   "cell_type": "markdown",
   "metadata": {},
   "source": [
    "## import predictor by its name"
   ]
  },
  {
   "cell_type": "markdown",
   "metadata": {},
   "source": [
    "We can get the predictor the same way we got the model, using the `get_predictor` fucntion and passing the name of the predictor we want."
   ]
  },
  {
   "cell_type": "code",
   "execution_count": 4,
   "metadata": {},
   "outputs": [],
   "source": [
    "predictor = model_tools.get_predictor('blink_balanced')"
   ]
  },
  {
   "cell_type": "markdown",
   "metadata": {},
   "source": [
    "## Using the model/predictor"
   ]
  },
  {
   "cell_type": "markdown",
   "metadata": {},
   "source": [
    "As mentioned, this particular model is trained on epochs of 125 samples on two channels (AF7, AF8). So it expects epochs of shape `[125, 2]`, and the predictor classifies on inputs of shape `[n_epochs, 125, 2]`.\n",
    "\n",
    "Let's generate a random input of that size just to try out the `predictor`."
   ]
  },
  {
   "cell_type": "code",
   "execution_count": 5,
   "metadata": {},
   "outputs": [],
   "source": [
    "import numpy as np"
   ]
  },
  {
   "cell_type": "code",
   "execution_count": 6,
   "metadata": {},
   "outputs": [],
   "source": [
    "input_ = np.random.random([10, 125, 2]) # 10 random epochs of two channels"
   ]
  },
  {
   "cell_type": "code",
   "execution_count": 7,
   "metadata": {},
   "outputs": [
    {
     "data": {
      "text/plain": "array([[1.0000000e+00, 3.5340758e-10],\n       [1.0000000e+00, 4.0824874e-10],\n       [1.0000000e+00, 7.9907747e-10],\n       [1.0000000e+00, 7.3489048e-10],\n       [1.0000000e+00, 1.1783500e-09],\n       [1.0000000e+00, 5.7723931e-10],\n       [1.0000000e+00, 6.3394068e-10],\n       [1.0000000e+00, 4.9778509e-10],\n       [1.0000000e+00, 2.8440242e-10],\n       [1.0000000e+00, 5.0525967e-10]], dtype=float32)"
     },
     "execution_count": 7,
     "metadata": {},
     "output_type": "execute_result"
    }
   ],
   "source": [
    "predictor(input_)"
   ]
  },
  {
   "cell_type": "markdown",
   "metadata": {},
   "source": [
    "As you can see, the output of this particular model is softmax (first entry for the non-blink classification and second for blink). It seems the model is pretty confident none of the random signals are blinks, which is promising. "
   ]
  }
 ]
}
{
 "metadata": {
  "language_info": {
   "codemirror_mode": {
    "name": "ipython",
    "version": 3
   },
   "file_extension": ".py",
   "mimetype": "text/x-python",
   "name": "python",
   "nbconvert_exporter": "python",
   "pygments_lexer": "ipython3",
   "version": "3.7.6-final"
  },
  "orig_nbformat": 2,
  "kernelspec": {
   "name": "python37664bitbaseconda80ebf1b4e8ae42f78b2b9972a4e4db4a",
   "display_name": "Python 3.7.6 64-bit ('base': conda)",
   "metadata": {
    "interpreter": {
     "hash": "2782778a59786a4290ea2d58bbf37057eeff34d0a420e0d69215fc2ae14e5fd8"
    }
   }
  }
 },
 "nbformat": 4,
 "nbformat_minor": 2,
 "cells": [
  {
   "source": [
    "# Keyboard BCI"
   ],
   "cell_type": "markdown",
   "metadata": {}
  },
  {
   "source": [
    "The name \"brain-computer interface\" suggests that you're using your brain to control a computer. In this notebook, we build a BCI whose `action` is to send keystrokes to the computer.\n",
    "\n",
    "You can probably think of a number of different applications for something like this. One example would be to use your BCI as a game controller where a certain kind of brain signal is a trigger for a keystroke corresponding to a certain in-game action."
   ],
   "cell_type": "markdown",
   "metadata": {}
  },
  {
   "cell_type": "code",
   "execution_count": 1,
   "metadata": {},
   "outputs": [],
   "source": [
    "# importing the `generic_BCI` class\n",
    "from neurol.BCI import generic_BCI"
   ]
  },
  {
   "source": [
    "For simplicity, let's have our trigger be a blink for this BCI. `neurol` has a blink classifier that we can use. "
   ],
   "cell_type": "markdown",
   "metadata": {}
  },
  {
   "cell_type": "code",
   "execution_count": 2,
   "metadata": {
    "tags": []
   },
   "outputs": [],
   "source": [
    "from neurol.models import model_tools\n",
    "\n",
    "blink_model = model_tools.get_model('blink_balanced')"
   ]
  },
  {
   "source": [
    "This particular model is trained on epochs of 125 samples of two channels (AF7, AF8). So it expects epochs of shape `[125, 2]`, and the predictor classifies on inputs of shape `[n_epochs, 125, 2]`. \n",
    "\n",
    "Let's use the model on some dummy input to see what it's output looks like."
   ],
   "cell_type": "markdown",
   "metadata": {}
  },
  {
   "cell_type": "code",
   "execution_count": 3,
   "metadata": {
    "tags": []
   },
   "outputs": [
    {
     "output_type": "stream",
     "name": "stdout",
     "text": "[[1.0000000e+00 6.2805905e-10]\n [1.0000000e+00 4.2027384e-10]\n [1.0000000e+00 4.0189491e-10]\n [1.0000000e+00 3.2830874e-10]\n [1.0000000e+00 2.1256073e-10]\n [1.0000000e+00 1.8255297e-10]\n [1.0000000e+00 4.8352838e-10]\n [1.0000000e+00 7.5089723e-10]\n [1.0000000e+00 2.7951988e-10]\n [1.0000000e+00 1.2855217e-09]]\n"
    }
   ],
   "source": [
    "import numpy as np\n",
    "\n",
    "input_ = np.random.random([10, 125, 2]) # 10 random epochs of two channels\n",
    "\n",
    "pred = blink_model.predict(input_)\n",
    "print(pred)"
   ]
  },
  {
   "source": [
    "The output is a softmax prediction (first entry for the non-blink classification and second for blink)\n",
    "\n",
    "Let's use it to build our BCI's classifier"
   ],
   "cell_type": "markdown",
   "metadata": {}
  },
  {
   "cell_type": "code",
   "execution_count": 4,
   "metadata": {},
   "outputs": [],
   "source": [
    "def blink_clf(buffer, clb_info):\n",
    "    # get the latest 125 samples from the channels we want\n",
    "    input_ = buffer[-125:, 1:3] \n",
    "\n",
    "    # expand dims so that input is of shape [1, 125, 2] \n",
    "    input_ = np.expand_dims(input_, axis=0) \n",
    "\n",
    "    # run model to make prediction\n",
    "    pred = blink_model.predict(input_)\n",
    "\n",
    "    # get index of higher probability prediction\n",
    "    pred_idx = np.argmax(pred) \n",
    "\n",
    "    # determin whether prediction is a blink\n",
    "    is_blink = bool(pred_idx)\n",
    "\n",
    "    return is_blink"
   ]
  },
  {
   "source": [
    "Now we can define the action we want our BCI to perform based on the results of the classifier.\n",
    "\n",
    "Let's say we want our BCI to send a spacebar keystroke every time it detects a blink. \n",
    "\n",
    "To do this, we'll use the `pynput` package."
   ],
   "cell_type": "markdown",
   "metadata": {}
  },
  {
   "cell_type": "code",
   "execution_count": 5,
   "metadata": {},
   "outputs": [],
   "source": [
    "from pynput.keyboard import Key, Controller\n",
    "\n",
    "keyboard = Controller()\n",
    "\n",
    "\n",
    "def key_action(is_blink):\n",
    "    # press spacebar if classifier thinks a blink occured\n",
    "    if is_blink:\n",
    "        keyboard.press(Key.space)\n",
    "        keyboard.release(Key.space)"
   ]
  },
  {
   "source": [
    "That's all we need. We're going to keep it simple and not bother with a transformer or calibrator.\n",
    "\n",
    "We can now define the BCI!"
   ],
   "cell_type": "markdown",
   "metadata": {}
  },
  {
   "cell_type": "code",
   "execution_count": 6,
   "metadata": {},
   "outputs": [],
   "source": [
    "keyboard_bci = generic_BCI(blink_clf, transformer=None, action=key_action, calibrator=None)"
   ]
  },
  {
   "source": [
    "Finally, we'll set up our stream."
   ],
   "cell_type": "markdown",
   "metadata": {}
  },
  {
   "cell_type": "code",
   "execution_count": 7,
   "metadata": {},
   "outputs": [],
   "source": [
    "from neurol.connect_device import get_EEG_inlets\n",
    "from neurol import streams\n",
    "\n",
    "inlet = get_EEG_inlets()[0] # gets first inlet, assuming only one EEG streaming device is connected\n",
    "\n",
    "# we ask the stream object to manage a buffer of 1024 samples from the inlet\n",
    "stream = streams.lsl_stream(inlet, buffer_length=1024)"
   ]
  },
  {
   "source": [
    "Okay! We can test it out now."
   ],
   "cell_type": "markdown",
   "metadata": {}
  },
  {
   "cell_type": "code",
   "execution_count": 8,
   "metadata": {
    "tags": []
   },
   "outputs": [
    {
     "output_type": "stream",
     "name": "stdout",
     "text": "\n\nQUIT BCI\n"
    }
   ],
   "source": [
    "try:\n",
    "    keyboard_bci.run(stream)\n",
    "\n",
    "except KeyboardInterrupt:\n",
    "    stream.close()\n",
    "    \n",
    "    print('\\n')\n",
    "    print('QUIT BCI')"
   ]
  }
 ]
}